{
  "nbformat": 4,
  "nbformat_minor": 0,
  "metadata": {
    "colab": {
      "provenance": []
    },
    "kernelspec": {
      "name": "python3",
      "display_name": "Python 3"
    },
    "language_info": {
      "name": "python"
    }
  },
  "cells": [
    {
      "cell_type": "markdown",
      "source": [
        "# Attention-Based Deep Multiple Instance Learning\n",
        "## Project: Implementation with Breast Histology Images\n",
        "### Ayooluwa Odemuyiwa\n",
        "\n"
      ],
      "metadata": {
        "id": "IvfljxUcZLNo"
      }
    },
    {
      "cell_type": "markdown",
      "source": [
        "# The Paper\n",
        "\n",
        " https://arxiv.org/pdf/1802.04712.pdf"
      ],
      "metadata": {
        "id": "8WH-5w8-Zefv"
      }
    },
    {
      "cell_type": "markdown",
      "source": [
        "# Loading and Processing Images\n",
        "\n",
        "The Breast Cancer images can be found here: https://bioimage.ucsb.edu/research/bio-segmentation\n",
        "\n",
        "This histopathobiology dataset consists of 58 896 x 768 H&E Images. One image was not donwloadable, so we worked with 57 instead. Each large image is labeled as either\n",
        "\n",
        "\n",
        "*   benign *or*\n",
        "*   malignant\n",
        "\n",
        "Every image is divided into 32 × 32 patches. If an image is more than 75% white, we discard that image. I run the script locally and saved in a local directory.\n",
        "\n",
        "The following code snippet was helpful in figuring out how to tile the actual images, but more work was done. to make the bags : https://gist.github.com/zeraien/2503530\n"
      ],
      "metadata": {
        "id": "PWSNk3y5ZmE3"
      }
    },
    {
      "cell_type": "markdown",
      "source": [
        "Below, I actually create folders for the different bags in my directory. I do this by looping over the files in my directory and assigning labels to the folder names after tiling my images"
      ],
      "metadata": {
        "id": "Eaw2P3_QbUZ0"
      }
    },
    {
      "cell_type": "code",
      "execution_count": null,
      "metadata": {
        "id": "htoZl6Edv1JW"
      },
      "outputs": [],
      "source": [
        "from PIL import Image\n",
        "import sys\n",
        "import os\n",
        "import cv2\n",
        "import numpy as np\n",
        "\n",
        "def pixel_count(im):\n",
        "    '''Returns true if the image is 75% or more white pixels and True otherwise'''\n",
        "    white = np.sum(im==255)\n",
        "    percent = (float(white)) / (float(32*32))\n",
        "    if (percent >= 0.75):\n",
        "        return False\n",
        "    else:\n",
        "        return True\n",
        "\n",
        "def make_patches(tile_width, tile_height, image, title, bag_num):\n",
        "  if image.size[0] % tile_width == 0 and image.size[1] % tile_height ==0:\n",
        "    currentx = 0\n",
        "    currenty = 0\n",
        "    while currenty < image.size[1]:\n",
        "        while currentx < image.size[0]:\n",
        "            tile = image.crop((currentx,currenty,currentx + tile_width,currenty + tile_height))\n",
        "            if (\"benign\" in title):\n",
        "               # print(\"entered if\")\n",
        "                label = 'B'\n",
        "            else:\n",
        "                label = 'C'\n",
        "            bw = np.array(tile)\n",
        "            if(pixel_count(bw) == False):\n",
        "                return\n",
        "            if (os.path.isdir(\"Bag\" + str(bag_num) + \"L\" + label) == False):\n",
        "                os.mkdir(\"Bag\" + str(bag_num) + \"L\" + label)\n",
        "            tile.save(\"Bag\" + str(bag_num) + \"L\" + label + \"/\" + \"x\" + str(currentx) + \"y\" + str(currenty) + label + \".png\",\"PNG\")\n",
        "            currentx += tile_width\n",
        "        currenty += tile_height\n",
        "        currentx = 0\n",
        "  else:\n",
        "    print(\"The image is not able to be split\")\n",
        "\n",
        "# assign directory\n",
        "directory = 'breast_cells'\n",
        "\n",
        "# iterate over files in that directory\n",
        "\n",
        "#making 57 bags\n",
        "bag = 1\n",
        "for filename in os.listdir(directory):\n",
        "    f = os.path.join(directory, filename)\n",
        "    if f.endswith(\"tif\"):\n",
        "        image = Image.open(f)\n",
        "        make_patches(32, 32,image, f, bag)\n",
        "        bag = bag + 1\n"
      ]
    },
    {
      "cell_type": "markdown",
      "source": [
        "# The Model\n",
        "\n",
        "Some parameters were adjusted that differ from the"
      ],
      "metadata": {
        "id": "3181079RcOcr"
      }
    },
    {
      "cell_type": "code",
      "source": [
        "\n",
        "import torch\n",
        "import torch.nn as nn\n",
        "import torch.nn.functional as F\n",
        "\n",
        "\n",
        "class Attention(nn.Module):\n",
        "    def __init__(self):\n",
        "        super(Attention, self).__init__()\n",
        "        self.L = 500\n",
        "        self.D = 128\n",
        "        self.K = 1\n",
        "\n",
        "        self.feature_extractor_part1 = nn.Sequential(\n",
        "            nn.Conv2d(3, 20, kernel_size=3),\n",
        "            nn.ReLU(),\n",
        "            nn.MaxPool2d(2, stride=2),\n",
        "            nn.Conv2d(20, 50, kernel_size=5),\n",
        "            nn.ReLU(),\n",
        "            nn.MaxPool2d(2, stride=2)\n",
        "        )\n",
        "\n",
        "        self.feature_extractor_part2 = nn.Sequential(\n",
        "            nn.Linear(50, self.L),\n",
        "            nn.ReLU(),\n",
        "        )\n",
        "\n",
        "        self.attention = nn.Sequential(\n",
        "            nn.Linear(self.L, self.D),\n",
        "            nn.Tanh(),\n",
        "            nn.Linear(self.D, self.K)\n",
        "        )\n",
        "\n",
        "        self.classifier = nn.Sequential(\n",
        "            nn.Linear(self.L*self.K, 1),\n",
        "            nn.Sigmoid()\n",
        "        )\n",
        "\n",
        "    def forward(self, x):\n",
        "        x = x.squeeze(0)\n",
        "\n",
        "        H = self.feature_extractor_part1(x)\n",
        "        H = H.view(-1, 50)\n",
        "        H = self.feature_extractor_part2(H)  # NxL\n",
        "\n",
        "        A = self.attention(H)  # NxK\n",
        "        A = torch.transpose(A, 1, 0)  # KxN\n",
        "        A = F.softmax(A, dim=1)  # softmax over N\n",
        "\n",
        "        M = torch.mm(A, H)  # KxL\n",
        "\n",
        "        Y_prob = self.classifier(M)\n",
        "        Y_hat = torch.ge(Y_prob, 0.5).float()\n",
        "\n",
        "        return Y_prob, Y_hat, A\n",
        "\n",
        "    # AUXILIARY METHODS\n",
        "    def calculate_classification_error(self, X, Y):\n",
        "        Y = Y.float()\n",
        "        _, Y_hat, _ = self.forward(X)\n",
        "        error = 1. - Y_hat.eq(Y).cpu().float().mean().data.item()\n",
        "\n",
        "        return error, Y_hat\n",
        "\n",
        "    def calculate_objective(self, X, Y):\n",
        "        Y = Y.float()\n",
        "        Y_prob, _, A = self.forward(X)\n",
        "        Y_prob = torch.clamp(Y_prob, min=1e-5, max=1. - 1e-5)\n",
        "        neg_log_likelihood = -1. * (Y * torch.log(Y_prob) + (1. - Y) * torch.log(1. - Y_prob))  # negative log bernoulli\n",
        "\n",
        "        return neg_log_likelihood, A\n",
        "\n",
        "class GatedAttention(nn.Module):\n",
        "    def __init__(self):\n",
        "        super(GatedAttention, self).__init__()\n",
        "        self.L = 500\n",
        "        self.D = 128\n",
        "        self.K = 1\n",
        "\n",
        "        self.feature_extractor_part1 = nn.Sequential(\n",
        "            nn.Conv2d(1, 20, kernel_size=5),\n",
        "            nn.ReLU(),\n",
        "            nn.MaxPool2d(2, stride=2),\n",
        "            nn.Conv2d(20, 50, kernel_size=5),\n",
        "            nn.ReLU(),\n",
        "            nn.MaxPool2d(2, stride=2)\n",
        "        )\n",
        "\n",
        "        self.feature_extractor_part2 = nn.Sequential(\n",
        "            nn.Linear(50 * 4 * 4, self.L),\n",
        "            nn.ReLU(),\n",
        "        )\n",
        "\n",
        "        self.attention_V = nn.Sequential(\n",
        "            nn.Linear(self.L, self.D),\n",
        "            nn.Tanh()\n",
        "        )\n",
        "\n",
        "        self.attention_U = nn.Sequential(\n",
        "            nn.Linear(self.L, self.D),\n",
        "            nn.Sigmoid()\n",
        "        )\n",
        "\n",
        "        self.attention_weights = nn.Linear(self.D, self.K)\n",
        "\n",
        "        self.classifier = nn.Sequential(\n",
        "            nn.Linear(self.L*self.K, 1),\n",
        "            nn.Sigmoid()\n",
        "        )\n",
        "\n",
        "    def forward(self, x):\n",
        "        x = x.squeeze(0)\n",
        "\n",
        "        H = self.feature_extractor_part1(x)\n",
        "        H = H.view(-1, 50 * 4 * 4)\n",
        "        H = self.feature_extractor_part2(H)  # NxL\n",
        "\n",
        "        A_V = self.attention_V(H)  # NxD\n",
        "        A_U = self.attention_U(H)  # NxD\n",
        "        A = self.attention_weights(A_V * A_U) # element wise multiplication # NxK\n",
        "        A = torch.transpose(A, 1, 0)  # KxN\n",
        "        A = F.softmax(A, dim=1)  # softmax over N\n",
        "\n",
        "        M = torch.mm(A, H)  # KxL\n",
        "\n",
        "        Y_prob = self.classifier(M)\n",
        "        Y_hat = torch.ge(Y_prob, 0.5).float()\n",
        "\n",
        "        return Y_prob, Y_hat, A\n",
        "\n",
        "    # AUXILIARY METHODS\n",
        "    def calculate_classification_error(self, X, Y):\n",
        "        Y = Y.float()\n",
        "        _, Y_hat, _ = self.forward(X)\n",
        "        error = 1. - Y_hat.eq(Y).cpu().float().mean().item()\n",
        "\n",
        "        return error, Y_hat\n",
        "\n",
        "    def calculate_objective(self, X, Y):\n",
        "        Y = Y.float()\n",
        "        Y_prob, _, A = self.forward(X)\n",
        "        Y_prob = torch.clamp(Y_prob, min=1e-5, max=1. - 1e-5)\n",
        "        neg_log_likelihood = -1. * (Y * torch.log(Y_prob) + (1. - Y) * torch.log(1. - Y_prob))  # negative log bernoulli\n",
        "\n",
        "        return neg_log_likelihood, A\n",
        "\n",
        ""
      ],
      "metadata": {
        "id": "hjTj8bNN_KJJ"
      },
      "execution_count": null,
      "outputs": []
    },
    {
      "cell_type": "markdown",
      "source": [
        "# New Section"
      ],
      "metadata": {
        "id": "VaA8iY-qcKzi"
      }
    },
    {
      "cell_type": "code",
      "source": [
        "!unzip data_bags.zip"
      ],
      "metadata": {
        "id": "VCxfTkuSmUHf"
      },
      "execution_count": null,
      "outputs": []
    },
    {
      "cell_type": "markdown",
      "source": [
        "## Created a DataLoader"
      ],
      "metadata": {
        "id": "D9bw5-i8eYii"
      }
    },
    {
      "cell_type": "code",
      "source": [
        "\"\"\"Pytorch dataset object that loads MNIST dataset as bags.\"\"\"\n",
        "\n",
        "import numpy as np\n",
        "import torch\n",
        "import torch.utils.data as data_utils\n",
        "from torchvision import datasets, transforms\n",
        "import os\n",
        "from tensorflow.keras.preprocessing.image import img_to_array, load_img\n",
        "import numpy as np\n",
        "\n",
        "class Histopathology(data_utils.Dataset):\n",
        "    def __init__(self, img_dir, transform):\n",
        "      self.img_dir = img_dir\n",
        "      self.transform = transform\n",
        "      self.bags, self.labels = self._create_bags()\n",
        "\n",
        "    def _create_bags(self):\n",
        "      bags = []\n",
        "      path =  self.img_dir\n",
        "      bag_label = []\n",
        "      for each_path_idx in os.listdir(path):\n",
        "          img = []\n",
        "          for each_img in os.listdir(os.path.join(path, each_path_idx)):\n",
        "              each_img = os.path.join(path, each_path_idx, each_img)\n",
        "              img_raw = load_img(each_img).convert('RGB') # this is a PIL image\n",
        "              img.append(self.transform(img_raw))\n",
        "          if (each_img[-5] == 'C'):\n",
        "              bag_label.append(1)\n",
        "          if (each_img[-5] == 'B'):\n",
        "              bag_label.append(0)\n",
        "          img = tuple(img)\n",
        "          img = torch.stack(img, 0)\n",
        "          bags.append(img)\n",
        "\n",
        "      self.labels = bag_label\n",
        "      self.bags = bags\n",
        "      return bags, bag_label\n",
        "\n",
        "    def __len__(self):\n",
        "       return len(self.labels)\n",
        "\n",
        "    def __getitem__(self, index):\n",
        "        bag = self.bags[index]\n",
        "        label = self.labels[index]\n",
        "        return bag, label\n",
        "\n"
      ],
      "metadata": {
        "id": "-n-wsysWhMG3"
      },
      "execution_count": null,
      "outputs": []
    },
    {
      "cell_type": "code",
      "source": [
        "from torchvision import transforms\n",
        "from torch.utils.data.sampler import SubsetRandomSampler\n",
        "\n",
        "\n",
        "path = \"/content/data_bags\"\n",
        "transform=transforms.Compose([transforms.ToTensor(), transforms.Resize([32, 32])] )\n",
        "dataset = Histopathology(path, transform)\n",
        "\n",
        "batch_size = 1\n",
        "validation_split = .4\n",
        "shuffle_dataset = True\n",
        "random_seed= 100\n",
        "\n",
        "# Creating data indices for training and validation splits:\n",
        "dataset_size = len(dataset)\n",
        "indices = list(range(dataset_size))\n",
        "split = int(np.floor(validation_split * dataset_size))\n",
        "if shuffle_dataset :\n",
        "    np.random.seed(random_seed)\n",
        "    np.random.shuffle(indices)\n",
        "train_indices, val_indices = indices[split:], indices[:split]\n",
        "\n",
        "# Creating PT data samplers and loaders:\n",
        "train_sampler = SubsetRandomSampler(train_indices)\n",
        "valid_sampler = SubsetRandomSampler(val_indices)\n",
        "\n",
        "train_loader = torch.utils.data.DataLoader(dataset, batch_size=batch_size,\n",
        "                                           sampler=train_sampler)\n",
        "validation_loader = torch.utils.data.DataLoader(dataset, batch_size=batch_size,\n",
        "                                                sampler=valid_sampler)\n",
        "\n"
      ],
      "metadata": {
        "id": "o1WRi-gbmae1"
      },
      "execution_count": null,
      "outputs": []
    },
    {
      "cell_type": "code",
      "source": [
        "print(len(validation_loader))"
      ],
      "metadata": {
        "colab": {
          "base_uri": "https://localhost:8080/"
        },
        "id": "QEXtUHrbopCv",
        "outputId": "795b0d6c-90f2-4f58-8643-013b269130d9"
      },
      "execution_count": null,
      "outputs": [
        {
          "output_type": "stream",
          "name": "stdout",
          "text": [
            "2\n"
          ]
        }
      ]
    },
    {
      "cell_type": "code",
      "source": [
        "import os\n",
        "from tensorflow.keras.preprocessing.image import img_to_array, load_img\n",
        "import numpy as np\n",
        "def generate_batch(path):\n",
        "    \"\"\"Loads and prepare image data and labels for training.\n",
        "    Parameters\n",
        "    -----------------\n",
        "    path : list\n",
        "        List of paths to the image folders\n",
        "    labels : list\n",
        "        list of labels for each image folder\n",
        "    input_dim : list\n",
        "        list with height and with of the images to be passee to the model\n",
        "    Returns\n",
        "    -----------------\n",
        "    bags : list\n",
        "        List of Lists containing image data, labels, and path to the image\n",
        "    \"\"\"\n",
        "    bags = []\n",
        "    path =  \"/content/breast_bags\"\n",
        "    for each_path_idx in os.listdir(path):\n",
        "        img = []\n",
        "        bag_label = []\n",
        "        for each_img in os.listdir(os.path.join(path, each_path_idx)):\n",
        "            each_img = os.path.join(path, each_path_idx, each_img)\n",
        "            img_raw = load_img(each_img).convert('RGB') # this is a PIL image\n",
        "            img_data = img_to_array(img_raw) / 255  # this is a Numpy array with shape (3, 256, 256)\n",
        "            img_data = np.asarray(img_data).astype('float32')\n",
        "            img_tensor = np.stack((img_data,)*3, axis=-1)\n",
        "            img.append(img_tensor)\n",
        "            if (each_img[-5] == 'C'):\n",
        "              bag_label.append(1)\n",
        "            if (each_img[-5] == 'B'):\n",
        "              bag_label.append(0)\n",
        "        bags.append((img, bag_label))\n",
        "\n",
        "    return bags"
      ],
      "metadata": {
        "id": "Y5P1xtgGA3up"
      },
      "execution_count": null,
      "outputs": []
    },
    {
      "cell_type": "code",
      "source": [
        "bags = generate_batch(\"/content/breast_bags\")"
      ],
      "metadata": {
        "id": "wxoZdUEmRre1"
      },
      "execution_count": null,
      "outputs": []
    },
    {
      "cell_type": "code",
      "source": [
        "from six import b\n",
        "from torch.autograd import Variable\n",
        "import torch.optim as optim\n",
        "import tensorflow as tf\n",
        "\n",
        "model = Attention()\n",
        "optimizer = optim.Adam(model.parameters(), lr=0.0005, betas=(0.9, 0.999), weight_decay=10e-5)\n",
        "def train(epoch, train_loader):\n",
        "    model.train()\n",
        "    train_loss = 0.\n",
        "    train_error = 0.\n",
        "    for batch_idx, (data, label) in enumerate(train_loader):\n",
        "        bag_label = label[0]\n",
        "        data, bag_label =  Variable(data), Variable(torch.from_numpy(np.array(bag_label)))\n",
        "        # reset gradients\n",
        "        optimizer.zero_grad()\n",
        "        # calculate loss and metrics\n",
        "        loss, _ = model.calculate_objective(data, bag_label)\n",
        "        train_loss += loss.data[0]\n",
        "        error, _ = model.calculate_classification_error(data, bag_label)\n",
        "        train_error += error\n",
        "        # backward pass\n",
        "        loss.backward()\n",
        "        # step\n",
        "        optimizer.step()\n",
        "\n",
        "    # calculate loss and error for epoch\n",
        "    train_loss /= len(train_loader)\n",
        "    train_error /= len(train_loader)\n",
        "\n",
        "    print('Epoch: {}, Loss: {:.4f}, Train error: {:.4f}'.format(epoch, train_loss.cpu().numpy()[0], train_error))\n",
        "\n",
        "def test(validation_loader):\n",
        "    model.eval()\n",
        "    test_loss = 0.\n",
        "    test_error = 0.\n",
        "    for batch_idx, (data, label) in enumerate(validation_loader):\n",
        "        bag_label = label[0]\n",
        "        x = torch.from_numpy(np.array(data, dtype=\"float32\"))\n",
        "        data, bag_label =  Variable(torch.from_numpy(np.array(data))), Variable(torch.from_numpy(np.array(bag_label)))\n",
        "        loss, attention_weights = model.calculate_objective(data, bag_label)\n",
        "        test_loss += loss.data[0]\n",
        "        error, predicted_label = model.calculate_classification_error(data, bag_label)\n",
        "        test_error += error\n",
        "\n",
        "    test_error /= len(validation_loader)\n",
        "    test_loss /= len(validation_loader)\n",
        "\n",
        "    print('\\nTest Set, Loss: {:.4f}, Test error: {:.4f}'.format(test_loss.cpu().numpy()[0], test_error))"
      ],
      "metadata": {
        "id": "1qCLyTuGWTw1"
      },
      "execution_count": null,
      "outputs": []
    },
    {
      "cell_type": "markdown",
      "source": [
        "Cross Validation\n",
        "\n"
      ],
      "metadata": {
        "id": "q-nNgspwe01-"
      }
    },
    {
      "cell_type": "code",
      "source": [
        "for i in range(10):\n",
        "  total_size = len(dataset)\n",
        "  fraction = 0.1\n",
        "  seg = int(total_size * fraction)\n",
        "    # tr:train,val:valid; r:right,l:left;  eg: trrr: right index of right side train subset\n",
        "    # index: [trll,trlr],[vall,valr],[trrl,trrr]\n",
        "  for i in range(10):\n",
        "      trll = 0\n",
        "      trlr = i * seg\n",
        "      vall = trlr\n",
        "      valr = i * seg + seg\n",
        "      trrl = valr\n",
        "      trrr = total_size\n",
        "      train_left_indices = list(range(trll,trlr))\n",
        "      train_right_indices = list(range(trrl,trrr))\n",
        "\n",
        "      train_indices = train_left_indices + train_right_indices\n",
        "      val_indices = list(range(vall,valr))\n",
        "\n",
        "      train_set = torch.utils.data.dataset.Subset(dataset,train_indices)\n",
        "      validation_set = torch.utils.data.dataset.Subset(dataset,val_indices)\n",
        "\n",
        "      train_loader = torch.utils.data.DataLoader(train_set, batch_size=batch_size)\n",
        "      validation_loader = torch.utils.data.DataLoader(dataset, batch_size=batch_size)\n",
        "\n",
        "      train(100, train_loader)\n",
        "      test(validation_loader)\n"
      ],
      "metadata": {
        "colab": {
          "base_uri": "https://localhost:8080/",
          "height": 853
        },
        "id": "keVMjiJAfBxm",
        "outputId": "18a5c122-517b-439b-ac41-422eb06439da"
      },
      "execution_count": null,
      "outputs": [
        {
          "output_type": "stream",
          "name": "stdout",
          "text": [
            "Epoch: 100, Loss: 0.6947, Train error: 0.4722\n",
            "\n",
            "Test Set, Loss: 0.6910, Test error: 0.4500\n",
            "Epoch: 100, Loss: 0.6916, Train error: 0.4444\n",
            "\n",
            "Test Set, Loss: 0.6897, Test error: 0.4500\n",
            "Epoch: 100, Loss: 0.6908, Train error: 0.4444\n",
            "\n",
            "Test Set, Loss: 0.6889, Test error: 0.4500\n",
            "Epoch: 100, Loss: 0.6936, Train error: 0.4722\n",
            "\n",
            "Test Set, Loss: 0.6890, Test error: 0.4500\n",
            "Epoch: 100, Loss: 0.6889, Train error: 0.4444\n",
            "\n",
            "Test Set, Loss: 0.6875, Test error: 0.4500\n",
            "Epoch: 100, Loss: 0.6841, Train error: 0.4167\n",
            "\n",
            "Test Set, Loss: 0.6855, Test error: 0.4500\n",
            "Epoch: 100, Loss: 0.6904, Train error: 0.4444\n",
            "\n",
            "Test Set, Loss: 0.6868, Test error: 0.4500\n",
            "Epoch: 100, Loss: 0.6868, Train error: 0.4444\n",
            "\n",
            "Test Set, Loss: 0.6837, Test error: 0.4500\n",
            "Epoch: 100, Loss: 0.6853, Train error: 0.4444\n",
            "\n",
            "Test Set, Loss: 0.6814, Test error: 0.4500\n",
            "Epoch: 100, Loss: 0.6922, Train error: 0.4722\n"
          ]
        },
        {
          "output_type": "error",
          "ename": "KeyboardInterrupt",
          "evalue": "ignored",
          "traceback": [
            "\u001b[0;31m---------------------------------------------------------------------------\u001b[0m",
            "\u001b[0;31mKeyboardInterrupt\u001b[0m                         Traceback (most recent call last)",
            "\u001b[0;32m<ipython-input-11-2028f695b7a3>\u001b[0m in \u001b[0;36m<module>\u001b[0;34m()\u001b[0m\n\u001b[1;32m     25\u001b[0m \u001b[0;34m\u001b[0m\u001b[0m\n\u001b[1;32m     26\u001b[0m       \u001b[0mtrain\u001b[0m\u001b[0;34m(\u001b[0m\u001b[0;36m100\u001b[0m\u001b[0;34m,\u001b[0m \u001b[0mtrain_loader\u001b[0m\u001b[0;34m)\u001b[0m\u001b[0;34m\u001b[0m\u001b[0;34m\u001b[0m\u001b[0m\n\u001b[0;32m---> 27\u001b[0;31m       \u001b[0mtest\u001b[0m\u001b[0;34m(\u001b[0m\u001b[0mvalidation_loader\u001b[0m\u001b[0;34m)\u001b[0m\u001b[0;34m\u001b[0m\u001b[0;34m\u001b[0m\u001b[0m\n\u001b[0m",
            "\u001b[0;32m<ipython-input-10-799366dd1350>\u001b[0m in \u001b[0;36mtest\u001b[0;34m(validation_loader)\u001b[0m\n\u001b[1;32m     39\u001b[0m         \u001b[0mx\u001b[0m \u001b[0;34m=\u001b[0m \u001b[0mtorch\u001b[0m\u001b[0;34m.\u001b[0m\u001b[0mfrom_numpy\u001b[0m\u001b[0;34m(\u001b[0m\u001b[0mnp\u001b[0m\u001b[0;34m.\u001b[0m\u001b[0marray\u001b[0m\u001b[0;34m(\u001b[0m\u001b[0mdata\u001b[0m\u001b[0;34m,\u001b[0m \u001b[0mdtype\u001b[0m\u001b[0;34m=\u001b[0m\u001b[0;34m\"float32\"\u001b[0m\u001b[0;34m)\u001b[0m\u001b[0;34m)\u001b[0m\u001b[0;34m\u001b[0m\u001b[0;34m\u001b[0m\u001b[0m\n\u001b[1;32m     40\u001b[0m         \u001b[0mdata\u001b[0m\u001b[0;34m,\u001b[0m \u001b[0mbag_label\u001b[0m \u001b[0;34m=\u001b[0m  \u001b[0mVariable\u001b[0m\u001b[0;34m(\u001b[0m\u001b[0mtorch\u001b[0m\u001b[0;34m.\u001b[0m\u001b[0mfrom_numpy\u001b[0m\u001b[0;34m(\u001b[0m\u001b[0mnp\u001b[0m\u001b[0;34m.\u001b[0m\u001b[0marray\u001b[0m\u001b[0;34m(\u001b[0m\u001b[0mdata\u001b[0m\u001b[0;34m)\u001b[0m\u001b[0;34m)\u001b[0m\u001b[0;34m)\u001b[0m\u001b[0;34m,\u001b[0m \u001b[0mVariable\u001b[0m\u001b[0;34m(\u001b[0m\u001b[0mtorch\u001b[0m\u001b[0;34m.\u001b[0m\u001b[0mfrom_numpy\u001b[0m\u001b[0;34m(\u001b[0m\u001b[0mnp\u001b[0m\u001b[0;34m.\u001b[0m\u001b[0marray\u001b[0m\u001b[0;34m(\u001b[0m\u001b[0mbag_label\u001b[0m\u001b[0;34m)\u001b[0m\u001b[0;34m)\u001b[0m\u001b[0;34m)\u001b[0m\u001b[0;34m\u001b[0m\u001b[0;34m\u001b[0m\u001b[0m\n\u001b[0;32m---> 41\u001b[0;31m         \u001b[0mloss\u001b[0m\u001b[0;34m,\u001b[0m \u001b[0mattention_weights\u001b[0m \u001b[0;34m=\u001b[0m \u001b[0mmodel\u001b[0m\u001b[0;34m.\u001b[0m\u001b[0mcalculate_objective\u001b[0m\u001b[0;34m(\u001b[0m\u001b[0mdata\u001b[0m\u001b[0;34m,\u001b[0m \u001b[0mbag_label\u001b[0m\u001b[0;34m)\u001b[0m\u001b[0;34m\u001b[0m\u001b[0;34m\u001b[0m\u001b[0m\n\u001b[0m\u001b[1;32m     42\u001b[0m         \u001b[0mtest_loss\u001b[0m \u001b[0;34m+=\u001b[0m \u001b[0mloss\u001b[0m\u001b[0;34m.\u001b[0m\u001b[0mdata\u001b[0m\u001b[0;34m[\u001b[0m\u001b[0;36m0\u001b[0m\u001b[0;34m]\u001b[0m\u001b[0;34m\u001b[0m\u001b[0;34m\u001b[0m\u001b[0m\n\u001b[1;32m     43\u001b[0m         \u001b[0merror\u001b[0m\u001b[0;34m,\u001b[0m \u001b[0mpredicted_label\u001b[0m \u001b[0;34m=\u001b[0m \u001b[0mmodel\u001b[0m\u001b[0;34m.\u001b[0m\u001b[0mcalculate_classification_error\u001b[0m\u001b[0;34m(\u001b[0m\u001b[0mdata\u001b[0m\u001b[0;34m,\u001b[0m \u001b[0mbag_label\u001b[0m\u001b[0;34m)\u001b[0m\u001b[0;34m\u001b[0m\u001b[0;34m\u001b[0m\u001b[0m\n",
            "\u001b[0;32m<ipython-input-2-4da2c166cdc3>\u001b[0m in \u001b[0;36mcalculate_objective\u001b[0;34m(self, X, Y)\u001b[0m\n\u001b[1;32m     65\u001b[0m     \u001b[0;32mdef\u001b[0m \u001b[0mcalculate_objective\u001b[0m\u001b[0;34m(\u001b[0m\u001b[0mself\u001b[0m\u001b[0;34m,\u001b[0m \u001b[0mX\u001b[0m\u001b[0;34m,\u001b[0m \u001b[0mY\u001b[0m\u001b[0;34m)\u001b[0m\u001b[0;34m:\u001b[0m\u001b[0;34m\u001b[0m\u001b[0;34m\u001b[0m\u001b[0m\n\u001b[1;32m     66\u001b[0m         \u001b[0mY\u001b[0m \u001b[0;34m=\u001b[0m \u001b[0mY\u001b[0m\u001b[0;34m.\u001b[0m\u001b[0mfloat\u001b[0m\u001b[0;34m(\u001b[0m\u001b[0;34m)\u001b[0m\u001b[0;34m\u001b[0m\u001b[0;34m\u001b[0m\u001b[0m\n\u001b[0;32m---> 67\u001b[0;31m         \u001b[0mY_prob\u001b[0m\u001b[0;34m,\u001b[0m \u001b[0m_\u001b[0m\u001b[0;34m,\u001b[0m \u001b[0mA\u001b[0m \u001b[0;34m=\u001b[0m \u001b[0mself\u001b[0m\u001b[0;34m.\u001b[0m\u001b[0mforward\u001b[0m\u001b[0;34m(\u001b[0m\u001b[0mX\u001b[0m\u001b[0;34m)\u001b[0m\u001b[0;34m\u001b[0m\u001b[0;34m\u001b[0m\u001b[0m\n\u001b[0m\u001b[1;32m     68\u001b[0m         \u001b[0mY_prob\u001b[0m \u001b[0;34m=\u001b[0m \u001b[0mtorch\u001b[0m\u001b[0;34m.\u001b[0m\u001b[0mclamp\u001b[0m\u001b[0;34m(\u001b[0m\u001b[0mY_prob\u001b[0m\u001b[0;34m,\u001b[0m \u001b[0mmin\u001b[0m\u001b[0;34m=\u001b[0m\u001b[0;36m1e-5\u001b[0m\u001b[0;34m,\u001b[0m \u001b[0mmax\u001b[0m\u001b[0;34m=\u001b[0m\u001b[0;36m1.\u001b[0m \u001b[0;34m-\u001b[0m \u001b[0;36m1e-5\u001b[0m\u001b[0;34m)\u001b[0m\u001b[0;34m\u001b[0m\u001b[0;34m\u001b[0m\u001b[0m\n\u001b[1;32m     69\u001b[0m         \u001b[0mneg_log_likelihood\u001b[0m \u001b[0;34m=\u001b[0m \u001b[0;34m-\u001b[0m\u001b[0;36m1.\u001b[0m \u001b[0;34m*\u001b[0m \u001b[0;34m(\u001b[0m\u001b[0mY\u001b[0m \u001b[0;34m*\u001b[0m \u001b[0mtorch\u001b[0m\u001b[0;34m.\u001b[0m\u001b[0mlog\u001b[0m\u001b[0;34m(\u001b[0m\u001b[0mY_prob\u001b[0m\u001b[0;34m)\u001b[0m \u001b[0;34m+\u001b[0m \u001b[0;34m(\u001b[0m\u001b[0;36m1.\u001b[0m \u001b[0;34m-\u001b[0m \u001b[0mY\u001b[0m\u001b[0;34m)\u001b[0m \u001b[0;34m*\u001b[0m \u001b[0mtorch\u001b[0m\u001b[0;34m.\u001b[0m\u001b[0mlog\u001b[0m\u001b[0;34m(\u001b[0m\u001b[0;36m1.\u001b[0m \u001b[0;34m-\u001b[0m \u001b[0mY_prob\u001b[0m\u001b[0;34m)\u001b[0m\u001b[0;34m)\u001b[0m  \u001b[0;31m# negative log bernoulli\u001b[0m\u001b[0;34m\u001b[0m\u001b[0;34m\u001b[0m\u001b[0m\n",
            "\u001b[0;32m<ipython-input-2-4da2c166cdc3>\u001b[0m in \u001b[0;36mforward\u001b[0;34m(self, x)\u001b[0m\n\u001b[1;32m     44\u001b[0m         \u001b[0mH\u001b[0m \u001b[0;34m=\u001b[0m \u001b[0mself\u001b[0m\u001b[0;34m.\u001b[0m\u001b[0mfeature_extractor_part2\u001b[0m\u001b[0;34m(\u001b[0m\u001b[0mH\u001b[0m\u001b[0;34m)\u001b[0m  \u001b[0;31m# NxL\u001b[0m\u001b[0;34m\u001b[0m\u001b[0;34m\u001b[0m\u001b[0m\n\u001b[1;32m     45\u001b[0m \u001b[0;34m\u001b[0m\u001b[0m\n\u001b[0;32m---> 46\u001b[0;31m         \u001b[0mA\u001b[0m \u001b[0;34m=\u001b[0m \u001b[0mself\u001b[0m\u001b[0;34m.\u001b[0m\u001b[0mattention\u001b[0m\u001b[0;34m(\u001b[0m\u001b[0mH\u001b[0m\u001b[0;34m)\u001b[0m  \u001b[0;31m# NxK\u001b[0m\u001b[0;34m\u001b[0m\u001b[0;34m\u001b[0m\u001b[0m\n\u001b[0m\u001b[1;32m     47\u001b[0m         \u001b[0mA\u001b[0m \u001b[0;34m=\u001b[0m \u001b[0mtorch\u001b[0m\u001b[0;34m.\u001b[0m\u001b[0mtranspose\u001b[0m\u001b[0;34m(\u001b[0m\u001b[0mA\u001b[0m\u001b[0;34m,\u001b[0m \u001b[0;36m1\u001b[0m\u001b[0;34m,\u001b[0m \u001b[0;36m0\u001b[0m\u001b[0;34m)\u001b[0m  \u001b[0;31m# KxN\u001b[0m\u001b[0;34m\u001b[0m\u001b[0;34m\u001b[0m\u001b[0m\n\u001b[1;32m     48\u001b[0m         \u001b[0mA\u001b[0m \u001b[0;34m=\u001b[0m \u001b[0mF\u001b[0m\u001b[0;34m.\u001b[0m\u001b[0msoftmax\u001b[0m\u001b[0;34m(\u001b[0m\u001b[0mA\u001b[0m\u001b[0;34m,\u001b[0m \u001b[0mdim\u001b[0m\u001b[0;34m=\u001b[0m\u001b[0;36m1\u001b[0m\u001b[0;34m)\u001b[0m  \u001b[0;31m# softmax over N\u001b[0m\u001b[0;34m\u001b[0m\u001b[0;34m\u001b[0m\u001b[0m\n",
            "\u001b[0;32m/usr/local/lib/python3.7/dist-packages/torch/nn/modules/module.py\u001b[0m in \u001b[0;36m_call_impl\u001b[0;34m(self, *input, **kwargs)\u001b[0m\n\u001b[1;32m   1108\u001b[0m         if not (self._backward_hooks or self._forward_hooks or self._forward_pre_hooks or _global_backward_hooks\n\u001b[1;32m   1109\u001b[0m                 or _global_forward_hooks or _global_forward_pre_hooks):\n\u001b[0;32m-> 1110\u001b[0;31m             \u001b[0;32mreturn\u001b[0m \u001b[0mforward_call\u001b[0m\u001b[0;34m(\u001b[0m\u001b[0;34m*\u001b[0m\u001b[0minput\u001b[0m\u001b[0;34m,\u001b[0m \u001b[0;34m**\u001b[0m\u001b[0mkwargs\u001b[0m\u001b[0;34m)\u001b[0m\u001b[0;34m\u001b[0m\u001b[0;34m\u001b[0m\u001b[0m\n\u001b[0m\u001b[1;32m   1111\u001b[0m         \u001b[0;31m# Do not call functions when jit is used\u001b[0m\u001b[0;34m\u001b[0m\u001b[0;34m\u001b[0m\u001b[0;34m\u001b[0m\u001b[0m\n\u001b[1;32m   1112\u001b[0m         \u001b[0mfull_backward_hooks\u001b[0m\u001b[0;34m,\u001b[0m \u001b[0mnon_full_backward_hooks\u001b[0m \u001b[0;34m=\u001b[0m \u001b[0;34m[\u001b[0m\u001b[0;34m]\u001b[0m\u001b[0;34m,\u001b[0m \u001b[0;34m[\u001b[0m\u001b[0;34m]\u001b[0m\u001b[0;34m\u001b[0m\u001b[0;34m\u001b[0m\u001b[0m\n",
            "\u001b[0;32m/usr/local/lib/python3.7/dist-packages/torch/nn/modules/container.py\u001b[0m in \u001b[0;36mforward\u001b[0;34m(self, input)\u001b[0m\n\u001b[1;32m    139\u001b[0m     \u001b[0;32mdef\u001b[0m \u001b[0mforward\u001b[0m\u001b[0;34m(\u001b[0m\u001b[0mself\u001b[0m\u001b[0;34m,\u001b[0m \u001b[0minput\u001b[0m\u001b[0;34m)\u001b[0m\u001b[0;34m:\u001b[0m\u001b[0;34m\u001b[0m\u001b[0;34m\u001b[0m\u001b[0m\n\u001b[1;32m    140\u001b[0m         \u001b[0;32mfor\u001b[0m \u001b[0mmodule\u001b[0m \u001b[0;32min\u001b[0m \u001b[0mself\u001b[0m\u001b[0;34m:\u001b[0m\u001b[0;34m\u001b[0m\u001b[0;34m\u001b[0m\u001b[0m\n\u001b[0;32m--> 141\u001b[0;31m             \u001b[0minput\u001b[0m \u001b[0;34m=\u001b[0m \u001b[0mmodule\u001b[0m\u001b[0;34m(\u001b[0m\u001b[0minput\u001b[0m\u001b[0;34m)\u001b[0m\u001b[0;34m\u001b[0m\u001b[0;34m\u001b[0m\u001b[0m\n\u001b[0m\u001b[1;32m    142\u001b[0m         \u001b[0;32mreturn\u001b[0m \u001b[0minput\u001b[0m\u001b[0;34m\u001b[0m\u001b[0;34m\u001b[0m\u001b[0m\n\u001b[1;32m    143\u001b[0m \u001b[0;34m\u001b[0m\u001b[0m\n",
            "\u001b[0;32m/usr/local/lib/python3.7/dist-packages/torch/nn/modules/module.py\u001b[0m in \u001b[0;36m_call_impl\u001b[0;34m(self, *input, **kwargs)\u001b[0m\n\u001b[1;32m   1108\u001b[0m         if not (self._backward_hooks or self._forward_hooks or self._forward_pre_hooks or _global_backward_hooks\n\u001b[1;32m   1109\u001b[0m                 or _global_forward_hooks or _global_forward_pre_hooks):\n\u001b[0;32m-> 1110\u001b[0;31m             \u001b[0;32mreturn\u001b[0m \u001b[0mforward_call\u001b[0m\u001b[0;34m(\u001b[0m\u001b[0;34m*\u001b[0m\u001b[0minput\u001b[0m\u001b[0;34m,\u001b[0m \u001b[0;34m**\u001b[0m\u001b[0mkwargs\u001b[0m\u001b[0;34m)\u001b[0m\u001b[0;34m\u001b[0m\u001b[0;34m\u001b[0m\u001b[0m\n\u001b[0m\u001b[1;32m   1111\u001b[0m         \u001b[0;31m# Do not call functions when jit is used\u001b[0m\u001b[0;34m\u001b[0m\u001b[0;34m\u001b[0m\u001b[0;34m\u001b[0m\u001b[0m\n\u001b[1;32m   1112\u001b[0m         \u001b[0mfull_backward_hooks\u001b[0m\u001b[0;34m,\u001b[0m \u001b[0mnon_full_backward_hooks\u001b[0m \u001b[0;34m=\u001b[0m \u001b[0;34m[\u001b[0m\u001b[0;34m]\u001b[0m\u001b[0;34m,\u001b[0m \u001b[0;34m[\u001b[0m\u001b[0;34m]\u001b[0m\u001b[0;34m\u001b[0m\u001b[0;34m\u001b[0m\u001b[0m\n",
            "\u001b[0;32m/usr/local/lib/python3.7/dist-packages/torch/nn/modules/linear.py\u001b[0m in \u001b[0;36mforward\u001b[0;34m(self, input)\u001b[0m\n\u001b[1;32m    101\u001b[0m \u001b[0;34m\u001b[0m\u001b[0m\n\u001b[1;32m    102\u001b[0m     \u001b[0;32mdef\u001b[0m \u001b[0mforward\u001b[0m\u001b[0;34m(\u001b[0m\u001b[0mself\u001b[0m\u001b[0;34m,\u001b[0m \u001b[0minput\u001b[0m\u001b[0;34m:\u001b[0m \u001b[0mTensor\u001b[0m\u001b[0;34m)\u001b[0m \u001b[0;34m->\u001b[0m \u001b[0mTensor\u001b[0m\u001b[0;34m:\u001b[0m\u001b[0;34m\u001b[0m\u001b[0;34m\u001b[0m\u001b[0m\n\u001b[0;32m--> 103\u001b[0;31m         \u001b[0;32mreturn\u001b[0m \u001b[0mF\u001b[0m\u001b[0;34m.\u001b[0m\u001b[0mlinear\u001b[0m\u001b[0;34m(\u001b[0m\u001b[0minput\u001b[0m\u001b[0;34m,\u001b[0m \u001b[0mself\u001b[0m\u001b[0;34m.\u001b[0m\u001b[0mweight\u001b[0m\u001b[0;34m,\u001b[0m \u001b[0mself\u001b[0m\u001b[0;34m.\u001b[0m\u001b[0mbias\u001b[0m\u001b[0;34m)\u001b[0m\u001b[0;34m\u001b[0m\u001b[0;34m\u001b[0m\u001b[0m\n\u001b[0m\u001b[1;32m    104\u001b[0m \u001b[0;34m\u001b[0m\u001b[0m\n\u001b[1;32m    105\u001b[0m     \u001b[0;32mdef\u001b[0m \u001b[0mextra_repr\u001b[0m\u001b[0;34m(\u001b[0m\u001b[0mself\u001b[0m\u001b[0;34m)\u001b[0m \u001b[0;34m->\u001b[0m \u001b[0mstr\u001b[0m\u001b[0;34m:\u001b[0m\u001b[0;34m\u001b[0m\u001b[0;34m\u001b[0m\u001b[0m\n",
            "\u001b[0;31mKeyboardInterrupt\u001b[0m: "
          ]
        }
      ]
    },
    {
      "cell_type": "code",
      "source": [
        "train(300, train_loader)"
      ],
      "metadata": {
        "colab": {
          "base_uri": "https://localhost:8080/"
        },
        "id": "dgVwGfKMogfo",
        "outputId": "355266d3-2c14-47e9-b972-52500acb7c78"
      },
      "execution_count": null,
      "outputs": [
        {
          "output_type": "stream",
          "name": "stdout",
          "text": [
            "Epoch: 300, Loss: 0.6886, Train error: 0.4722\n"
          ]
        }
      ]
    },
    {
      "cell_type": "code",
      "source": [
        "test(validation_loader)"
      ],
      "metadata": {
        "colab": {
          "base_uri": "https://localhost:8080/"
        },
        "id": "Et1q_N9u_O4v",
        "outputId": "8e995c37-8eea-44d4-90be-82aaec14a562"
      },
      "execution_count": null,
      "outputs": [
        {
          "output_type": "stream",
          "name": "stdout",
          "text": [
            "\n",
            "Test Set, Loss: 0.6782, Test error: 0.4500\n"
          ]
        }
      ]
    }
  ]
}